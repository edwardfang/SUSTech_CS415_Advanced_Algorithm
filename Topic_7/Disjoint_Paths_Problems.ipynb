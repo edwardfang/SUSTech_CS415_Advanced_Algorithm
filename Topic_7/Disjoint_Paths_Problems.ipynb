{
 "cells": [
  {
   "cell_type": "markdown",
   "metadata": {},
   "source": [
    "# Disjoint_Paths_Problems\n",
    "## Section One Algorithm"
   ]
  },
  {
   "cell_type": "code",
   "execution_count": 151,
   "metadata": {},
   "outputs": [],
   "source": [
    "# pip install networkx\n",
    "import networkx as nx\n",
    "import matplotlib.pyplot as plt\n",
    "import math\n",
    "%matplotlib inline"
   ]
  },
  {
   "cell_type": "code",
   "execution_count": 191,
   "metadata": {},
   "outputs": [],
   "source": [
    "def greedy_disjoint_paths(directed_graph, node_pairs, capacity, pricing = False):\n",
    "    '''\n",
    "    ::param: directed_graph: directed node pairs list e.g. \n",
    "             [(1,2), (3,4), (5,6),(7,8),(9,10),(2,4),(4,6),(6,8),(8,9),(6,11),(8,12),(9,13)]\n",
    "    ::param: node_pairs: node_pairs to generate path e.g. \n",
    "            [(1,10),(3,11),(5,12),(7,13)]\n",
    "    ::param: capacity: int capacity of edges\n",
    "    ::return value: (the number of satisfied paths, satisfied paths list)\n",
    "    '''\n",
    "    dg = nx.DiGraph()\n",
    "    dg.add_edges_from(directed_graph)\n",
    "    nx.set_edge_attributes(dg, name='used', values=0)\n",
    "    nx.set_edge_attributes(dg, name='weight', values=1)\n",
    "    beta = 1\n",
    "    if pricing:\n",
    "        beta = math.pow(len(directed_graph),1/(capacity+1))\n",
    "    print(beta)\n",
    "    pairts_to_cover = list(node_pairs)\n",
    "    path = list()\n",
    "    while True:\n",
    "        # until no new path can be found\n",
    "        # find all possible path first\n",
    "        minlen = len(directed_graph) + 1\n",
    "        minpath = None\n",
    "        for pair in pairts_to_cover:\n",
    "            if nx.has_path(G=dg, source=pair[0], target=pair[1]) is False:\n",
    "                continue\n",
    "            new_path = nx.shortest_path(G=dg, source=pair[0],target=pair[1], weight='weight')\n",
    "            # print(new_path, len(new_path))\n",
    "            if len(new_path) < minlen:\n",
    "                minlen = len(new_path)\n",
    "                minpath = new_path\n",
    "        if minpath == None:\n",
    "            break\n",
    "        print(minpath, pairts_to_cover, minlen)\n",
    "        path.append(minpath)\n",
    "        update_remove_edges(dg, minpath, capacity, pricing, beta)\n",
    "        pairts_to_cover.remove((minpath[0],minpath[-1]))\n",
    "    return (len(node_pairs) - len(pairts_to_cover), path)\n",
    "\n",
    "def update_remove_edges(graph, path, capacity, pricing, beta = 1):\n",
    "    '''\n",
    "    Remove the full edges from the graph\n",
    "    '''\n",
    "    for idx in range(len(path)-1):\n",
    "        edge = (path[idx],path[idx+1])\n",
    "        graph[edge[0]][edge[1]]['used'] += 1\n",
    "        graph[edge[0]][edge[1]]['weight'] *= beta\n",
    "        # print(graph[edge[0]][edge[1]]['weight'])\n",
    "        if graph[edge[0]][edge[1]]['used'] == capacity:\n",
    "            graph.remove_edge(edge[0],edge[1])"
   ]
  },
  {
   "cell_type": "markdown",
   "metadata": {},
   "source": [
    "## Section Two Test Instances"
   ]
  },
  {
   "cell_type": "code",
   "execution_count": 192,
   "metadata": {},
   "outputs": [
    {
     "name": "stdout",
     "output_type": "stream",
     "text": [
      "1\n",
      "[3, 4, 6, 11] [(1, 10), (3, 11), (5, 12), (7, 13)] 4\n",
      "[5, 6, 8, 12] [(1, 10), (5, 12), (7, 13)] 4\n",
      "[7, 8, 9, 13] [(1, 10), (7, 13)] 4\n"
     ]
    },
    {
     "data": {
      "text/plain": [
       "(3, [[3, 4, 6, 11], [5, 6, 8, 12], [7, 8, 9, 13]])"
      ]
     },
     "execution_count": 192,
     "metadata": {},
     "output_type": "execute_result"
    }
   ],
   "source": [
    "directed_graph = [(1,2), (3,4), (5,6),(7,8),(9,10),(2,4),(4,6),(6,8),(8,9),(6,11),(8,12),(9,13)]\n",
    "pairs = [(1,10),(3,11),(5,12),(7,13)]\n",
    "greedy_disjoint_paths(directed_graph, pairs, 1)"
   ]
  },
  {
   "cell_type": "code",
   "execution_count": 193,
   "metadata": {},
   "outputs": [
    {
     "name": "stdout",
     "output_type": "stream",
     "text": [
      "3.072316825685847\n",
      "[1, 5, 6, 7, 8, 9, 11] [(1, 11), (2, 12), (3, 13), (4, 14)] 7\n",
      "[4, 8, 9, 10, 15, 16, 17, 14] [(2, 12), (3, 13), (4, 14)] 8\n",
      "[3, 7, 8, 24, 25, 26, 27, 28, 13] [(2, 12), (3, 13)] 9\n",
      "[2, 6, 7, 18, 19, 20, 21, 22, 23, 12] [(2, 12)] 10\n"
     ]
    },
    {
     "data": {
      "text/plain": [
       "(4,\n",
       " [[1, 5, 6, 7, 8, 9, 11],\n",
       "  [4, 8, 9, 10, 15, 16, 17, 14],\n",
       "  [3, 7, 8, 24, 25, 26, 27, 28, 13],\n",
       "  [2, 6, 7, 18, 19, 20, 21, 22, 23, 12]])"
      ]
     },
     "execution_count": 193,
     "metadata": {},
     "output_type": "execute_result"
    }
   ],
   "source": [
    "directed_graph = [(1,5), (2,6), (3,7),(4,8),(5,6),(6,7),(7,8),(7,18),(8,9),(8,24),(9,11),(9,10),(10,12)\n",
    "                  ,(10,15),(15,16),(16,17),(16,13),(17,14),(18,19),(19,20),(20,21),(21,22),(22,23),(23,12)\n",
    "                 ,(24,25),(25,26),(26,27),(27,28),(28,13)]\n",
    "pairs = [(1,11),(2,12),(3,13),(4,14)]\n",
    "greedy_disjoint_paths(directed_graph, pairs, 2,pricing=True)"
   ]
  },
  {
   "cell_type": "code",
   "execution_count": 194,
   "metadata": {},
   "outputs": [
    {
     "data": {
      "image/png": "[encoded data removed]",
      "text/plain": [
       "<matplotlib.figure.Figure at 0x7fa560a74908>"
      ]
     },
     "metadata": {},
     "output_type": "display_data"
    }
   ],
   "source": [
    "nx.draw_shell(dg, with_labels=True, font_weight='bold')"
   ]
  }
 ],
 "metadata": {
  "kernelspec": {
   "display_name": "Python 3",
   "language": "python",
   "name": "python3"
  },
  "language_info": {
   "codemirror_mode": {
    "name": "ipython",
    "version": 3
   },
   "file_extension": ".py",
   "mimetype": "text/x-python",
   "name": "python",
   "nbconvert_exporter": "python",
   "pygments_lexer": "ipython3",
   "version": "3.5.2"
  }
 },
 "nbformat": 4,
 "nbformat_minor": 2
}
