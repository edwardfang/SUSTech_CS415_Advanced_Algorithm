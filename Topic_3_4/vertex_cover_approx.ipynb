{
 "cells": [
  {
   "cell_type": "code",
   "execution_count": null,
   "metadata": {},
   "outputs": [],
   "source": [
    "def vertex_cover_approx(graph_mat, w):\n",
    "    '''\n",
    "    % *********************************************************************** %\n",
    "    % Vertex Cover Approximation Algorithm (Pricing Method).\n",
    "    % -------\n",
    "    % INPUT :\n",
    "    % -------\n",
    "    %   graph_mat : list[tuple(2)*edge_num], Integer :: each row denotes an edge\n",
    "    %       e.g., [1 2; 2 3; 3 4; 4 1; 2 4]\n",
    "    %   w : list[vertex_num], Double :: node w\n",
    "    %       e.g., [3 4 3 5]\n",
    "    % -------\n",
    "    % OUTPUT:\n",
    "    % -------\n",
    "    %   vertex_set_indices : matrix(1, ?), Integer :: vertex set indices generated sequentially\n",
    "    %       e.g., [1 2 3]\n",
    "    %   prices : matrix(1, ?), Double :: prices generated sequentially\n",
    "    %       e.g., [3 1 2]\n",
    "    % *********************************************************************** %\n",
    "    '''\n",
    "    uncovered = graph_mat\n",
    "    for i,weight in w:\n",
    "        \n",
    "    \n",
    "    \n",
    "    "
   ]
  },
  {
   "cell_type": "code",
   "execution_count": 4,
   "metadata": {},
   "outputs": [],
   "source": [
    "graph_mat = set([(1,2),(2,3),(3,4),(4,1),(2,4)])\n",
    "w = [3,4,3,5]"
   ]
  },
  {
   "cell_type": "code",
   "execution_count": null,
   "metadata": {},
   "outputs": [],
   "source": []
  },
  {
   "cell_type": "code",
   "execution_count": null,
   "metadata": {},
   "outputs": [],
   "source": []
  }
 ],
 "metadata": {
  "kernelspec": {
   "display_name": "Python 3",
   "language": "python",
   "name": "python3"
  },
  "language_info": {
   "codemirror_mode": {
    "name": "ipython",
    "version": 3
   },
   "file_extension": ".py",
   "mimetype": "text/x-python",
   "name": "python",
   "nbconvert_exporter": "python",
   "pygments_lexer": "ipython3",
   "version": "3.5.2"
  }
 },
 "nbformat": 4,
 "nbformat_minor": 2
}
