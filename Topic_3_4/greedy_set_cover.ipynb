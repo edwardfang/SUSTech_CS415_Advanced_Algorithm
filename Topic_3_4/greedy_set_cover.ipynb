{
 "cells": [
  {
   "cell_type": "code",
   "execution_count": 1,
   "metadata": {},
   "outputs": [],
   "source": [
    "import numpy as np"
   ]
  },
  {
   "cell_type": "code",
   "execution_count": 1,
   "metadata": {},
   "outputs": [],
   "source": [
    "def greedy_set_cover(elems, set_dict):\n",
    "    '''\n",
    "    % *********************************************************************** %\n",
    "    % Greedy Algorithm for the Set Cover Problem.\n",
    "    % -------\n",
    "    % INPUT :\n",
    "    % -------\n",
    "    %   elems : array, Integer :: each number denotes an element\n",
    "    %       e.g., 1 : 8\n",
    "    %   set_dict : dict list :: all sets\n",
    "    %       {set_id : Integer, set_weight : Double, set_elements : array}\n",
    "    %       e.g., {{1, 1, 1}, {2, 1, 2}, {3, 1, [3 4]}, {4, 1, 5 : 8}, ...\n",
    "    %              {5, 1.01, 1 : 2 : 7}, {6, 1.01, 2 : 2 : 8}};\n",
    "    % -------\n",
    "    % OUTPUT:\n",
    "    % -------\n",
    "    %   cover_set_indices : matrix(1, ?), Integer :: cover set indices generated sequentially\n",
    "    %       e.g., [4 3 1 2]\n",
    "    %   cover_set_costs : matrix(1, ?), Double :: cover set costs generated sequentially\n",
    "    %       e.g., [1/4 1/2 1 1]\n",
    "    [(4, 0.25), (3, 0.5), (1, 1.0), (2, 1.0)]\n",
    "    % *********************************************************************** %\n",
    "    '''\n",
    "    covered = set()\n",
    "    uncovered = elems\n",
    "    seq = list()\n",
    "    while len(elems.difference(covered))!=0:  \n",
    "        avg_weight = dict()\n",
    "        for key in set_dict:\n",
    "            useful = set_dict[key][1].intersection(uncovered)\n",
    "            if len(useful) != 0:\n",
    "                avg_weight[key] = sets[key][0]/len(useful)\n",
    "        next_set = min(avg_weight, key=avg_weight.get)\n",
    "        covered = covered.union(sets[next_set][1])\n",
    "        uncovered = elems.difference(covered)\n",
    "        seq.append((next_set,avg_weight[next_set]))\n",
    "    return seq\n",
    "    \n",
    "    \n",
    "    "
   ]
  },
  {
   "cell_type": "markdown",
   "metadata": {},
   "source": [
    "## demo1"
   ]
  },
  {
   "cell_type": "code",
   "execution_count": 2,
   "metadata": {},
   "outputs": [],
   "source": [
    "elems = set(range(1,9))"
   ]
  },
  {
   "cell_type": "code",
   "execution_count": 3,
   "metadata": {},
   "outputs": [],
   "source": [
    "sets = dict()\n",
    "sets[1] = (1, set([1]))\n",
    "sets[2] = (1, set([2]))\n",
    "sets[3] = (1, set([3,4]))\n",
    "sets[4] = (1, set(range(5,9)))\n",
    "sets[5] = (1.01, set(range(1,8,2)))\n",
    "sets[6] = (1.01, set(range(2,9,2)))"
   ]
  },
  {
   "cell_type": "code",
   "execution_count": 4,
   "metadata": {
    "scrolled": true
   },
   "outputs": [
    {
     "name": "stdout",
     "output_type": "stream",
     "text": [
      "(1, {1})\n",
      "(1, {2})\n",
      "(1, {3, 4})\n",
      "(1, {8, 5, 6, 7})\n",
      "(1.01, {1, 3, 5, 7})\n",
      "(1.01, {8, 2, 4, 6})\n"
     ]
    }
   ],
   "source": [
    "for key in sets:\n",
    "    print(sets[key])"
   ]
  },
  {
   "cell_type": "code",
   "execution_count": 5,
   "metadata": {},
   "outputs": [
    {
     "data": {
      "text/plain": [
       "[(4, 0.25), (3, 0.5), (1, 1.0), (2, 1.0)]"
      ]
     },
     "execution_count": 5,
     "metadata": {},
     "output_type": "execute_result"
    }
   ],
   "source": [
    "greedy_set_cover(elems, sets)"
   ]
  },
  {
   "cell_type": "markdown",
   "metadata": {},
   "source": [
    "## demo 2"
   ]
  },
  {
   "cell_type": "code",
   "execution_count": 128,
   "metadata": {},
   "outputs": [],
   "source": [
    "elems = set(range(1,17))\n",
    "sets = dict()\n",
    "'''\n",
    "{{1, 1, 1}, {2, 1, 2}, {3, 1, [3 4]}, {4, 1, 5 : 8}, ...\n",
    "    {5, 1, 9 : 16}, {6, 1.01, 1 : 2 : 15}, {7, 1.01, 2 : 2 : 16}};\n",
    "'''\n",
    "sets[1] = (1, set([1]))\n",
    "sets[2] = (1, set([2]))\n",
    "sets[3] = (1, set([3,4]))\n",
    "sets[4] = (1, set(range(5,9)))\n",
    "sets[5] = (1, set(range(9,17)))\n",
    "sets[6] = (1.01, set(range(1,16,2)))\n",
    "sets[7] = (1.01, set(range(2,17,2)))"
   ]
  },
  {
   "cell_type": "code",
   "execution_count": 129,
   "metadata": {},
   "outputs": [
    {
     "data": {
      "text/plain": [
       "[(5, 0.125), (4, 0.25), (3, 0.5), (1, 1.0), (2, 1.0)]"
      ]
     },
     "execution_count": 129,
     "metadata": {},
     "output_type": "execute_result"
    }
   ],
   "source": [
    "greedy_set_cover(elems, sets)"
   ]
  },
  {
   "cell_type": "markdown",
   "metadata": {},
   "source": [
    "## Demo 3"
   ]
  },
  {
   "cell_type": "code",
   "execution_count": null,
   "metadata": {},
   "outputs": [],
   "source": []
  }
 ],
 "metadata": {
  "kernelspec": {
   "display_name": "Python 3",
   "language": "python",
   "name": "python3"
  },
  "language_info": {
   "codemirror_mode": {
    "name": "ipython",
    "version": 3
   },
   "file_extension": ".py",
   "mimetype": "text/x-python",
   "name": "python",
   "nbconvert_exporter": "python",
   "pygments_lexer": "ipython3",
   "version": "3.5.2"
  }
 },
 "nbformat": 4,
 "nbformat_minor": 2
}
