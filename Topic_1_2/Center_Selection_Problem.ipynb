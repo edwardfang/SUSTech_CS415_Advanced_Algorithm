{
 "cells": [
  {
   "cell_type": "markdown",
   "metadata": {},
   "source": [
    "```\n",
    "function cent = greedy_center_select(x, k)\n",
    "% *********************************************************************** %\n",
    "% Greedy Algorithm for Center Slection Problem.\n",
    "% --------\n",
    "% INPUT  :\n",
    "% --------\n",
    "%   x    : matrix(point_num, dimension_num), Double\n",
    "%          point set\n",
    "%   k    : matrix(1, 1), Integer\n",
    "%          total number of centers\n",
    "% --------\n",
    "% OUTPUT :\n",
    "% --------\n",
    "%   cent : matrix(k, dimension_num), Double\n",
    "% --------\n",
    "% Example:\n",
    "% --------\n",
    "%     %%\n",
    "%     rng(0);\n",
    "%     set = [mvnrnd([2 -2], [2 1.5; 1.5, 2], 500); mvnrnd([-2 2], [2 1.5; 1.5, 2], 500)];\n",
    "%     plot(set(:, 1), set(:, 2), '.'); hold on;\n",
    "%     cent = greedy_center_select(set, 6);\n",
    "%     for cent_ind = 1 : size(cent)\n",
    "%         text(cent(cent_ind, 1), cent(cent_ind, 2), num2str(cent_ind), 'Color', 'r', 'FontSize', 25);\n",
    "%         hold on;\n",
    "%     end\n",
    "%     hold off;\n",
    "% \n",
    "%     %%\n",
    "%     set = [(-10 : 10)' (-10 : 10)'];\n",
    "%     plot(set(:, 1), set(:, 2), '.'); hold on;\n",
    "%     cent = greedy_center_select(set, 5);\n",
    "%     for cent_ind = 1 : size(cent)\n",
    "%         text(cent(cent_ind, 1), cent(cent_ind, 2), num2str(cent_ind), 'Color', 'r', 'FontSize', 25);\n",
    "%         hold on;\n",
    "%     end\n",
    "%     hold off;\n",
    "% *********************************************************************** %\n",
    "    cent = x(1, :);\n",
    "    x(1, :) = [];\n",
    "    for i = 2 : k\n",
    "        dist = pdist2(x, cent);\n",
    "        min_dist = min(dist, [], 2);\n",
    "        [~, max_min_dist]= max(min_dist);\n",
    "        cent = cat(1, cent, x(max_min_dist, :));\n",
    "        x(max_min_dist, :) = [];\n",
    "    end\n",
    "end\n",
    "\n",
    "```"
   ]
  },
  {
   "cell_type": "code",
   "execution_count": 2,
   "metadata": {},
   "outputs": [],
   "source": [
    "from scipy.spatial import distance\n",
    "import numpy as np\n",
    "from numpy.random import multivariate_normal\n",
    "import matplotlib as plt"
   ]
  },
  {
   "cell_type": "code",
   "execution_count": 18,
   "metadata": {},
   "outputs": [],
   "source": [
    "def greedy_center_select(x,k):\n",
    "    '''\n",
    "    Input \n",
    "    x: matrix: (number of points, Dimensions)\n",
    "    k: number of centers\n",
    "    '''\n",
    "    centers = list()\n",
    "    centers.append(x[0])\n",
    "    np.delete(x,0,0)\n",
    "    for i in range(1,k):\n",
    "        D = distance.cdist(x,np.matrix(centers), 'euclidean')\n",
    "        min_dis = np.amin(D, axis=1)\n",
    "        max_idx = np.argmax(min_dis)\n",
    "        centers.append(x[max_idx])\n",
    "        np.delete(x,max_idx,0)\n",
    "    return np.matrix(centers)"
   ]
  },
  {
   "cell_type": "code",
   "execution_count": 39,
   "metadata": {},
   "outputs": [],
   "source": [
    "x = multivariate_normal(np.array([2,-2]),[[2,1.5],[1.5,2]],500)\n",
    "y = multivariate_normal(np.array([-2,2]),[[2,1.5],[1.5,2]],500)\n",
    "xy = np.concatenate((x,y),axis=0)"
   ]
  },
  {
   "cell_type": "code",
   "execution_count": 36,
   "metadata": {},
   "outputs": [],
   "source": [
    "x = np.matrix(np.arange(-10,11))\n",
    "y = np.matrix(np.arange(-10,11))\n",
    "# x.reshape(1,x.shape[0])\n",
    "# y.reshape(1,y.shape[0])\n",
    "xy = np.concatenate((x,y),axis=0)\n",
    "xy = xy.transpose()"
   ]
  },
  {
   "cell_type": "code",
   "execution_count": 40,
   "metadata": {},
   "outputs": [
    {
     "data": {
      "text/plain": [
       "array([[ 3.33869807, -0.15987426],\n",
       "       [ 2.22547697, -2.66611604]])"
      ]
     },
     "execution_count": 40,
     "metadata": {},
     "output_type": "execute_result"
    }
   ],
   "source": [
    "xy[:2]"
   ]
  },
  {
   "cell_type": "code",
   "execution_count": 86,
   "metadata": {},
   "outputs": [
    {
     "data": {
      "text/plain": [
       "<matplotlib.collections.PathCollection at 0x7faca03fcdd8>"
      ]
     },
     "execution_count": 86,
     "metadata": {},
     "output_type": "execute_result"
    },
    {
     "data": {
      "image/png": "[encoded data removed]",
      "text/plain": [
       "<matplotlib.figure.Figure at 0x7faca04a3630>"
      ]
     },
     "metadata": {},
     "output_type": "display_data"
    }
   ],
   "source": [
    "import matplotlib.pyplot as plt\n",
    "%matplotlib inline\n",
    "plt.scatter(xy[:,0],xy[:,1])\n",
    "result = greedy_center_select(xy,4)\n",
    "plt.scatter(np.array(result[:,0]),np.array(result[:,1]),c='red')"
   ]
  },
  {
   "cell_type": "code",
   "execution_count": 9,
   "metadata": {},
   "outputs": [
    {
     "name": "stdout",
     "output_type": "stream",
     "text": [
      "[[ 1.41421356  2.23606798]\n",
      " [ 2.82842712  3.60555128]] [ 1.41421356  2.82842712]\n"
     ]
    }
   ],
   "source": [
    "X = np.matrix([[1,1],[2,2]])\n",
    "C = np.matrix([[0,0],[0,-1]])\n",
    "D = distance.cdist(X,C, 'euclidean')\n",
    "g = np.amin(D, axis=1)\n",
    "print(D,g)"
   ]
  },
  {
   "cell_type": "markdown",
   "metadata": {},
   "source": [
    "```\n",
    "function [class, cent] = K_Means(x, k, max_iter)\n",
    "% *********************************************************************** %\n",
    "% K-Means Clustering Algorithm [Lloyd' K-Means].\n",
    "% --------\n",
    "% INPUT  :\n",
    "% --------\n",
    "%   x    : matrix(point_num, dimension_num), Double\n",
    "%          point set\n",
    "%   k    : matrix(1, 1), Integer\n",
    "%          total number of centroids\n",
    "%   max_iter : matrix(1, 1), Integer\n",
    "%          maximum number of iterations\n",
    "% --------\n",
    "% OUTPUT :\n",
    "% --------\n",
    "%   class: matrix(point_num, 1), Integer\n",
    "%          range from 1 to k\n",
    "%   cent : matrix(k, dimension_num), Double\n",
    "% --------\n",
    "% Example:\n",
    "% --------\n",
    "%     rng(1);\n",
    "%     x = [mvnrnd([5 5], [1.5 0; 0 1.5], 500); ...\n",
    "%          mvnrnd([5 -5], [1.5 0; 0 1.5], 500); ...\n",
    "%          mvnrnd([-5 5], [1.5 0; 0 1.5], 500); ...\n",
    "%          mvnrnd([-5 -5], [1.5 0; 0 1.5], 500)];\n",
    "%     k = 4;\n",
    "%     [class, cent] = K_Means(x, k, 1e3);\n",
    "%     fig_colors = {'r', 'b', 'g', 'm'};\n",
    "%     for k_ind = 1 : k\n",
    "%         plot(x(class == k_ind, 1), x(class == k_ind, 2), '.', 'Color', fig_colors{1, k_ind}); hold on;\n",
    "%         plot(cent(k_ind, 1), cent(k_ind, 2), 'kx', 'MarkerSize', 12, 'LineWidth', 5); \n",
    "%     end\n",
    "%     hold off;\n",
    "% --------\n",
    "% Ref    :\n",
    "% --------\n",
    "%   * Lloyd S. Least squares quantization in PCM. \n",
    "%       IEEE transactions on information theory. 1982 Mar;28(2):129-37.\n",
    "%   * http://lear.inrialpes.fr/~verbeek/software\n",
    "% *********************************************************************** %\n",
    "    [point_num, ~] = size(x);\n",
    "    cent = x(randperm(point_num, k), :);\n",
    "    for iter_ind = 1 : max_iter\n",
    "        dist = pdist2(x, cent);\n",
    "        [~, class] = min(dist, [], 2);\n",
    "        for cent_ind = 1 : k\n",
    "            cent(cent_ind, :) = mean(x(class == cent_ind, :), 1);\n",
    "        end\n",
    "    end\n",
    "end\n",
    "\n",
    "```"
   ]
  },
  {
   "cell_type": "code",
   "execution_count": 43,
   "metadata": {},
   "outputs": [],
   "source": [
    "def K_Means(x, k, max_iter):\n",
    "    '''\n",
    "    % --------\n",
    "    % INPUT  :\n",
    "    % --------\n",
    "    %   x    : matrix(point_num, dimension_num), Double\n",
    "    %          point set\n",
    "    %   k    : matrix(1, 1), Integer\n",
    "    %          total number of centroids\n",
    "    %   max_iter : matrix(1, 1), Integer\n",
    "    %          maximum number of iterations\n",
    "    % --------\n",
    "    % OUTPUT :\n",
    "    % --------\n",
    "    %   class: matrix(point_num, 1), Integer\n",
    "    %          range from 1 to k\n",
    "    %   cent : matrix(k, dimension_num), Double\n",
    "    % --------\n",
    "    '''\n",
    "    point_num = x.shape[0]\n",
    "    r = np.arange(point_num)\n",
    "    np.random.shuffle(r)\n",
    "    centers = x[r[:k],:]\n",
    "    class_ = None\n",
    "    for i in range(max_iter):\n",
    "        D = distance.cdist(x,np.matrix(centers), 'euclidean')\n",
    "        class_ = np.argmin(D, axis=1)\n",
    "        for j in range(k):\n",
    "            centers[j,:] = np.mean(x[class_ ==j],axis=0)\n",
    "    return (centers,class_)\n",
    "    "
   ]
  },
  {
   "cell_type": "code",
   "execution_count": 38,
   "metadata": {},
   "outputs": [
    {
     "data": {
      "text/plain": [
       "array([2, 4])"
      ]
     },
     "execution_count": 38,
     "metadata": {},
     "output_type": "execute_result"
    }
   ],
   "source": [
    "class_ = np.array([0,1,0,1])\n",
    "x = np.array([1,2,3,4])\n",
    "x[class_ == 1]"
   ]
  },
  {
   "cell_type": "code",
   "execution_count": 41,
   "metadata": {},
   "outputs": [
    {
     "data": {
      "text/plain": [
       "matrix([[0, 0],\n",
       "        [1, 2]])"
      ]
     },
     "execution_count": 41,
     "metadata": {},
     "output_type": "execute_result"
    }
   ],
   "source": [
    "x = np.matrix([[0,0],[1,2]])\n",
    "x"
   ]
  },
  {
   "cell_type": "code",
   "execution_count": 42,
   "metadata": {},
   "outputs": [
    {
     "data": {
      "text/plain": [
       "matrix([[ 0.5,  1. ]])"
      ]
     },
     "execution_count": 42,
     "metadata": {},
     "output_type": "execute_result"
    }
   ],
   "source": [
    "np.mean(x,axis=0)"
   ]
  },
  {
   "cell_type": "code",
   "execution_count": null,
   "metadata": {},
   "outputs": [],
   "source": []
  }
 ],
 "metadata": {
  "kernelspec": {
   "display_name": "Python 3",
   "language": "python",
   "name": "python3"
  },
  "language_info": {
   "codemirror_mode": {
    "name": "ipython",
    "version": 3
   },
   "file_extension": ".py",
   "mimetype": "text/x-python",
   "name": "python",
   "nbconvert_exporter": "python",
   "pygments_lexer": "ipython3",
   "version": "3.5.2"
  }
 },
 "nbformat": 4,
 "nbformat_minor": 2
}
