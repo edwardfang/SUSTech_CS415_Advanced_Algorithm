{
 "cells": [
  {
   "cell_type": "markdown",
   "metadata": {},
   "source": [
    "```matlab\n",
    "function [makespan, assigns, accumulators] = greedy_balance(machine_num, job_num, job_indices, job_time)\n",
    "% *********************************************************************** %\n",
    "% Greedy Balance Algorithm for Loading Balancing Problem.\n",
    "% --------\n",
    "% INPUT  :\n",
    "% --------\n",
    "%   machine_num : matrix(1, 1), Integer\n",
    "%   job_num     : matrix(1, 1), Integer\n",
    "%   job_indices : matrix(1, job_num), Integer\n",
    "%   job_time    : matrix(1, job_num), Double\n",
    "%                 there is an one-to-one mapping relationship between \\\n",
    "%                   *job_indices* and *job_time*\n",
    "% --------\n",
    "% OUTPUT :\n",
    "% --------\n",
    "%   makespan    : matrix(1, 1), Double\n",
    "%   assigns     : cell(1, machine_num), Integer\n",
    "%                 all job indices on each machine [from bottom to top]\n",
    "%   accumulators: matrix(1, machine_num), Integer\n",
    "%                 total processing time on each machine\n",
    "% --------\n",
    "% Example:\n",
    "% --------\n",
    "%   >> [makespan, assigns, accumulators] = greedy_balance(3, 7, 1 : 7, 1 : 7); % 12\n",
    "%   >> [makespan, assigns, accumulators] = greedy_balance(3, 6, 1 : 6, [2 3 4 6 2 2]); % 8\n",
    "%   >> [makespan, assigns, accumulators] = greedy_balance(4, 13, [2 : 13 1], [ones(1, 12) 4]); % 7 <= 2 * 4 (4 = opt)\n",
    "%   >> [makespan, assigns, accumulators] = greedy_balance(3, 5, 1 : 5, [7 6 5 4 2]); % 9\n",
    "%       vs. [makespan, assigns, accumulators] = greedy_balance(3, 5, 1 : 5, [2 7 6 5 4]); % 10\n",
    "%   >> job_time = randi(RandStream('mt19937ar', 'Seed', 0), 1e3, 1, 1e3); % job_time(1 , [1 end]) == [815   867]\n",
    "%   >> [makespan, assigns, accumulators] = greedy_balance(100, 1e3, 1 : 1e3, job_time); % 5481\n",
    "% *********************************************************************** %\n",
    "    assigns = cell(1, machine_num);\n",
    "    accumulators = zeros(1, machine_num);\n",
    "    for job_ind = 1 : length(job_indices)\n",
    "        [~, min_ind] = min(accumulators); % get the index of machine with a minimal load\n",
    "        assigns{1, min_ind} = cat(2, assigns{1, min_ind}, job_indices(1, job_ind));\n",
    "        accumulators(1, min_ind) = accumulators(1, min_ind) + job_time(1, job_ind);\n",
    "    end\n",
    "    makespan = max(accumulators);\n",
    "end\n",
    "\n",
    "```"
   ]
  },
  {
   "cell_type": "code",
   "execution_count": 1,
   "metadata": {},
   "outputs": [],
   "source": [
    "import numpy as np"
   ]
  },
  {
   "cell_type": "code",
   "execution_count": 32,
   "metadata": {},
   "outputs": [],
   "source": [
    "def greedy_balance(machine_num, job_indices, job_time):\n",
    "    assigns = [list() for i in range(machine_num)]\n",
    "    accumulators = np.zeros(machine_num)\n",
    "    for job_ind in range(len(job_indices)):\n",
    "        min_ind = np.argmin(accumulators)\n",
    "        \n",
    "        assigns[min_ind].append(job_indices[job_ind])\n",
    "        #print(assigns)\n",
    "        accumulators[min_ind] += job_time[job_ind]\n",
    "    makespan = max(accumulators)\n",
    "    return (makespan,assigns,accumulators)"
   ]
  },
  {
   "cell_type": "markdown",
   "metadata": {},
   "source": [
    "```\n",
    "function [makespan, assigns, accumulators] = sorted_balance(machine_num, job_num, job_indices, job_time)\n",
    "% *********************************************************************** %\n",
    "% Sorted Balance Algorithm for Loading Balancing Problem.\n",
    "% --------\n",
    "% INPUT  :\n",
    "% --------\n",
    "%   machine_num : matrix(1, 1), Integer\n",
    "%   job_num     : matrix(1, 1), Integer\n",
    "%   job_indices : matrix(1, job_num), Integer\n",
    "%   job_time    : matrix(1, job_num), Double\n",
    "%                 there is an one-to-one mapping relationship between \\\n",
    "%                   *job_indices* and *job_time*\n",
    "% --------\n",
    "% OUTPUT :\n",
    "% --------\n",
    "%   makespan    : matrix(1, 1), Double\n",
    "%   assigns     : cell(1, machine_num), Integer\n",
    "%                 all job indices on each machine [from bottom to top]\n",
    "%   accumulators: matrix(1, machine_num), Integer\n",
    "%                 total processing time on each machine\n",
    "% --------\n",
    "% Example:\n",
    "% --------\n",
    "%   >> [makespan, assigns, accumulators] = sorted_balance(3, 7, 1 : 7, 1 : 7); % 10\n",
    "%   >> [makespan, assigns, accumulators] = sorted_balance(3, 6, 1 : 6, [2 3 4 6 2 2]); % 7\n",
    "%   >> [makespan, assigns, accumulators] = sorted_balance(4, 13, [2 : 13 1], [ones(1, 12) 4]); % 4\n",
    "%   >> [makespan, assigns, accumulators] = sorted_balance(3, 5, 1 : 5, [7 6 5 4 2]); % 9\n",
    "%   >> job_time = randi(RandStream('mt19937ar', 'Seed', 0), 1e3, 1, 1e3); % job_time(1 , [1 end]) == [815   867]\n",
    "%   >> [makespan, assigns, accumulators] = sorted_balance(100, 1e3, 1 : 1e3, job_time); % 4906\n",
    "% *********************************************************************** %\n",
    "    [job_time, descend_ind] = sort(job_time, 'descend');\n",
    "    job_indices = job_indices(1, descend_ind);\n",
    "    [makespan, assigns, accumulators] = greedy_balance(machine_num, job_num, job_indices, job_time);\n",
    "end\n",
    "\n",
    "```\n"
   ]
  },
  {
   "cell_type": "code",
   "execution_count": 34,
   "metadata": {},
   "outputs": [],
   "source": [
    "def sorted_blance(machine_num, job_indices, job_time):\n",
    "    ascend_idx = np.argsort(job_time)\n",
    "    job_indices = job_indices[ascend_idx[::-1]]\n",
    "    job_time = job_time[ascend_idx[::-1]]\n",
    "    return greedy_balance(3, job_indices, job_time)"
   ]
  },
  {
   "cell_type": "code",
   "execution_count": 35,
   "metadata": {},
   "outputs": [
    {
     "data": {
      "text/plain": [
       "(10.0, [[7, 2, 1], [6, 3, 0], [5, 4]], array([ 10.,   9.,   9.]))"
      ]
     },
     "execution_count": 35,
     "metadata": {},
     "output_type": "execute_result"
    }
   ],
   "source": [
    "sorted_blance(3,  np.arange(8), np.arange(8))"
   ]
  }
 ],
 "metadata": {
  "kernelspec": {
   "display_name": "Python 3",
   "language": "python",
   "name": "python3"
  },
  "language_info": {
   "codemirror_mode": {
    "name": "ipython",
    "version": 3
   },
   "file_extension": ".py",
   "mimetype": "text/x-python",
   "name": "python",
   "nbconvert_exporter": "python",
   "pygments_lexer": "ipython3",
   "version": "3.5.2"
  }
 },
 "nbformat": 4,
 "nbformat_minor": 2
}
