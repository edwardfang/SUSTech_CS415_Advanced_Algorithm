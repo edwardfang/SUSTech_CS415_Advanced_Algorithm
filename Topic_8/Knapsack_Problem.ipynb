{
 "cells": [
  {
   "cell_type": "code",
   "execution_count": 3,
   "metadata": {},
   "outputs": [],
   "source": [
    "# -*- coding: utf-8 -*-\n",
    "\"\"\"Greedy Algorithm for the Knapsack Problem.\n",
    "\n",
    "Reference:\n",
    "----------\n",
    "    1. Kleinberg, Jon, and Eva Tardos. Algorithm design. Pearson Education India, 2006.\n",
    "\"\"\"\n",
    "\n",
    "\n",
    "import numpy as np\n",
    "\n",
    "\n",
    "def greedy_algorithm(V, W, max_w):\n",
    "    if len(V) != len(W):\n",
    "        return ValueError('len(V) != len(W)')    \n",
    "    V, W = np.array(V), np.array(W)\n",
    "    VW = V / W # value/weight\n",
    "    I = np.arange(len(V)) # 0-based element index for V, W, and VW\n",
    "    # sort in decreasing order of value/weight\n",
    "    I_VW = np.column_stack((I, V, W, VW)) \n",
    "    I_VW = I_VW[(-I_VW[:, 3]).argsort()] # in ascending order of -value/weight\n",
    "    select_list = []\n",
    "    sum_w, sum_v = 0.0, 0.0\n",
    "    for i in range(len(I_VW)):\n",
    "        curr_sum_w = sum_w + I_VW[i, 2]\n",
    "        if curr_sum_w <= max_w:\n",
    "            sum_w, sum_v = curr_sum_w, sum_v + I_VW[i, 1]\n",
    "            select_list.append(I_VW[i, 0].astype('i8'))    \n",
    "    return select_list, sum_v\n"
   ]
  },
  {
   "cell_type": "code",
   "execution_count": 4,
   "metadata": {},
   "outputs": [
    {
     "name": "stdout",
     "output_type": "stream",
     "text": [
      "------- Case 01 ------- >\n",
      "([6, 3, 0, 5, 1, 8], 39.0)\n",
      "------- Case 02 ------- >\n",
      "([0, 1], 199.0)\n",
      "------- Case 03 ------- >\n",
      "([0], 1.02)\n",
      "------- Case 04 ------- >\n",
      "([6, 1, 3, 4], 133.0)\n"
     ]
    }
   ],
   "source": [
    "print('------- Case 01 ------- >')\n",
    "V = [9, 5, 1, 7, 3, 4, 8, 2, 6]\n",
    "W = [6, 4, 8, 2, 7, 3, 1, 9, 5]\n",
    "max_w = sum(W) / 2.0\n",
    "print(greedy_algorithm(V, W, max_w)) # ([6, 3, 0, 5, 1, 8], 39.0)\n",
    "\n",
    "print('------- Case 02 ------- >')\n",
    "V = [100, 99, 98, 97, 96, 95, 94]\n",
    "W = [1, 1.1, 1.2, 1.3, 1.4, 1.5, 1.6]\n",
    "max_w = 3\n",
    "print(greedy_algorithm(V, W, max_w)) # ([0, 1], 199.0)\n",
    "\n",
    "print('------- Case 03 ------- >')\n",
    "V = [1.02, 1, 1]\n",
    "W = [1.01, 1, 1]\n",
    "max_w = 2\n",
    "print(greedy_algorithm(V, W, max_w)) # ([0], 1.02)\n",
    "\n",
    "print('------- Case 04 ------- >')\n",
    "V = [40, 60, 10, 10, 3, 20, 60]\n",
    "W = [40, 50, 30, 10, 10, 40, 30]\n",
    "max_w = 100\n",
    "print(greedy_algorithm(V, W, max_w)) # ([6, 1, 3, 4], 133.0)"
   ]
  },
  {
   "cell_type": "code",
   "execution_count": null,
   "metadata": {},
   "outputs": [],
   "source": []
  }
 ],
 "metadata": {
  "kernelspec": {
   "display_name": "Python 3",
   "language": "python",
   "name": "python3"
  },
  "language_info": {
   "codemirror_mode": {
    "name": "ipython",
    "version": 3
   },
   "file_extension": ".py",
   "mimetype": "text/x-python",
   "name": "python",
   "nbconvert_exporter": "python",
   "pygments_lexer": "ipython3",
   "version": "3.5.2"
  }
 },
 "nbformat": 4,
 "nbformat_minor": 2
}
