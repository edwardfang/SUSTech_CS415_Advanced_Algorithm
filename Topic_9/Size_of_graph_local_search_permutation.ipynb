{
 "cells": [
  {
   "cell_type": "code",
   "execution_count": 182,
   "metadata": {},
   "outputs": [],
   "source": [
    "import matplotlib\n",
    "%matplotlib inline\n",
    "from collections import deque\n",
    "import time"
   ]
  },
  {
   "cell_type": "markdown",
   "metadata": {},
   "source": [
    "## Check Function"
   ]
  },
  {
   "cell_type": "code",
   "execution_count": 237,
   "metadata": {},
   "outputs": [],
   "source": [
    "def test_wheather_the_same(solution_a, solution_b):\n",
    "    '''\n",
    "    params:solution_a, solution_b: lists\n",
    "    check if the two permutation solutions for tour are actually the same\n",
    "    '''\n",
    "    dequeue_a = deque(solution_a)\n",
    "    dequeue_b = deque(solution_b)\n",
    "    while(dequeue_a[0]!=dequeue_b[0]):\n",
    "        # circular shift from left to right\n",
    "        dequeue_a.rotate()\n",
    "    # check from left to right\n",
    "    if dequeue_a == dequeue_b:\n",
    "        return True\n",
    "    else:\n",
    "        dequeue_a.reverse()\n",
    "        dequeue_a.rotate()\n",
    "        if dequeue_a == dequeue_b:\n",
    "            return True\n",
    "        else:\n",
    "            return False\n",
    "\n",
    "def count_neighbors(neighbors):\n",
    "    '''\n",
    "    params: neighbors: a list of solutions probably with duplications\n",
    "    output: actual number of neighbors\n",
    "    '''\n",
    "    total_count = len(neighbors) - 1\n",
    "    for idx, solution_a in enumerate(neighbors):\n",
    "        for solution_b in neighbors[idx+1:]:\n",
    "            \n",
    "            if test_wheather_the_same(solution_a, solution_b):\n",
    "                #print(solution_a, solution_b)\n",
    "                #print(\"same\")\n",
    "                total_count -= 1\n",
    "                break\n",
    "    return total_count"
   ]
  },
  {
   "cell_type": "markdown",
   "metadata": {},
   "source": [
    "## Adjacent Swap"
   ]
  },
  {
   "cell_type": "code",
   "execution_count": 89,
   "metadata": {},
   "outputs": [],
   "source": [
    "def ad_swap(var_size):\n",
    "    init_solution = list(range(var_size))\n",
    "    neighbors = list()\n",
    "    neighbors.append(init_solution)\n",
    "    for idx in range(var_size):\n",
    "        newsolutoin = list(init_solution)\n",
    "        tmp = newsolutoin[idx-1]\n",
    "        newsolutoin[idx-1] = newsolutoin[idx]\n",
    "        newsolutoin[idx] = tmp\n",
    "        neighbors.append(newsolutoin)\n",
    "    return neighbors"
   ]
  },
  {
   "cell_type": "code",
   "execution_count": 220,
   "metadata": {
    "scrolled": true
   },
   "outputs": [
    {
     "name": "stdout",
     "output_type": "stream",
     "text": [
      "[0] [0]\n",
      "same\n",
      "1\n",
      "[0, 1] [1, 0]\n",
      "same\n",
      "[1, 0] [1, 0]\n",
      "same\n",
      "2\n",
      "[0, 1, 2] [2, 1, 0]\n",
      "same\n",
      "[2, 1, 0] [1, 0, 2]\n",
      "same\n",
      "[1, 0, 2] [0, 2, 1]\n",
      "same\n",
      "3\n",
      "[3, 1, 2, 0] [0, 2, 1, 3]\n",
      "same\n",
      "[1, 0, 2, 3] [0, 1, 3, 2]\n",
      "same\n",
      "4\n"
     ]
    }
   ],
   "source": [
    "for i in range(100):\n",
    "    if i != count_neighbors(ad_swap(i)):\n",
    "        print(i)"
   ]
  },
  {
   "cell_type": "markdown",
   "metadata": {},
   "source": [
    "## Arbitary Swap"
   ]
  },
  {
   "cell_type": "code",
   "execution_count": 86,
   "metadata": {},
   "outputs": [],
   "source": [
    "def arbitary_swap(var_size):\n",
    "    init_solution = list(range(var_size))\n",
    "    neighbors = list()\n",
    "    neighbors.append(init_solution)\n",
    "    for idx1 in range(var_size):\n",
    "        for idx2 in range(idx1 + 1, var_size):\n",
    "            newsolutoin = list(init_solution)\n",
    "            tmp = newsolutoin[idx1]\n",
    "            newsolutoin[idx1] = newsolutoin[idx2]\n",
    "            newsolutoin[idx2] = tmp\n",
    "            neighbors.append(newsolutoin)\n",
    "    return neighbors"
   ]
  },
  {
   "cell_type": "markdown",
   "metadata": {},
   "source": [
    "n >= 6 size = nC2"
   ]
  },
  {
   "cell_type": "code",
   "execution_count": 223,
   "metadata": {},
   "outputs": [
    {
     "name": "stdout",
     "output_type": "stream",
     "text": [
      "[0, 1] [1, 0]\n",
      "same\n",
      "2\n",
      "[0, 1, 2] [1, 0, 2]\n",
      "same\n",
      "[1, 0, 2] [2, 1, 0]\n",
      "same\n",
      "[2, 1, 0] [0, 2, 1]\n",
      "same\n",
      "3\n",
      "[0, 1, 2, 3] [2, 1, 0, 3]\n",
      "same\n",
      "[1, 0, 2, 3] [0, 1, 3, 2]\n",
      "same\n",
      "[2, 1, 0, 3] [0, 3, 2, 1]\n",
      "same\n",
      "[3, 1, 2, 0] [0, 2, 1, 3]\n",
      "same\n",
      "4\n",
      "[1, 0, 2, 3, 4] [0, 1, 4, 3, 2]\n",
      "same\n",
      "[2, 1, 0, 3, 4] [0, 1, 2, 4, 3]\n",
      "same\n",
      "[3, 1, 2, 0, 4] [0, 2, 1, 3, 4]\n",
      "same\n",
      "[4, 1, 2, 3, 0] [0, 3, 2, 1, 4]\n",
      "same\n",
      "[0, 4, 2, 3, 1] [0, 1, 3, 2, 4]\n",
      "same\n",
      "5\n",
      "[2, 1, 0, 3, 4, 5] [0, 1, 2, 5, 4, 3]\n",
      "same\n",
      "[4, 1, 2, 3, 0, 5] [0, 3, 2, 1, 4, 5]\n",
      "same\n",
      "[0, 5, 2, 3, 4, 1] [0, 1, 4, 3, 2, 5]\n",
      "same\n",
      "6\n"
     ]
    }
   ],
   "source": [
    "for i in range(40):\n",
    "    if i*(i-1)/2 != count_neighbors(arbitary_swap(i)):\n",
    "        print(i)"
   ]
  },
  {
   "cell_type": "markdown",
   "metadata": {},
   "source": [
    "## Insertion"
   ]
  },
  {
   "cell_type": "code",
   "execution_count": 231,
   "metadata": {},
   "outputs": [],
   "source": [
    "def insertion(var_size):\n",
    "    init_solution = list(range(var_size))\n",
    "    neighbors = list()\n",
    "    neighbors.append(init_solution)\n",
    "    for idx1 in range(var_size):\n",
    "        for idx2 in range(var_size):\n",
    "            newsolutoin = list(init_solution)\n",
    "            del newsolutoin[idx1]\n",
    "            if idx2 < idx1:\n",
    "                newsolutoin.insert(idx2, idx1)\n",
    "            elif idx2 > idx1:\n",
    "                newsolutoin.insert(idx2, idx1)\n",
    "            else:\n",
    "                continue\n",
    "            neighbors.append(newsolutoin)\n",
    "    # print(neighbors)\n",
    "    return neighbors"
   ]
  },
  {
   "cell_type": "code",
   "execution_count": 240,
   "metadata": {},
   "outputs": [
    {
     "name": "stdout",
     "output_type": "stream",
     "text": [
      "1\n",
      "2\n",
      "4\n"
     ]
    }
   ],
   "source": [
    "for i in range(40):\n",
    "    if i**2 - 3*i != count_neighbors(insertion(i)):\n",
    "        print(i)"
   ]
  },
  {
   "cell_type": "markdown",
   "metadata": {},
   "source": [
    "## Two-edge Inversion"
   ]
  },
  {
   "cell_type": "code",
   "execution_count": 258,
   "metadata": {},
   "outputs": [],
   "source": [
    "def two_opt(var_size):\n",
    "    init_solution = list(range(var_size))\n",
    "    neighbors = list()\n",
    "    neighbors.append(init_solution)\n",
    "    for idx1 in range(1, var_size-1):\n",
    "        for idx2 in range(idx1+1, var_size):\n",
    "            newsolutoin = list(init_solution)\n",
    "            newsolutoin[idx1:idx2+1] = newsolutoin[idx2:idx1-1:-1]\n",
    "            neighbors.append(newsolutoin)\n",
    "    #print(neighbors)\n",
    "    return neighbors"
   ]
  },
  {
   "cell_type": "code",
   "execution_count": 259,
   "metadata": {},
   "outputs": [
    {
     "name": "stdout",
     "output_type": "stream",
     "text": [
      "1\n",
      "2\n"
     ]
    }
   ],
   "source": [
    "for i in range(40):\n",
    "    if (i**2 - 3*i)/2 != count_neighbors(two_opt(i)):\n",
    "        print(i)"
   ]
  },
  {
   "cell_type": "markdown",
   "metadata": {},
   "source": [
    "# Local search Neighborhood Structure Comparisom\n",
    "## Greedy Algorithm\n",
    "\n",
    "Reference https://github.com/dmishin/tsp-solver"
   ]
  },
  {
   "cell_type": "code",
   "execution_count": 461,
   "metadata": {},
   "outputs": [],
   "source": [
    "from random import shuffle, randrange, choice, randint, randrange\n",
    "from itertools import permutations\n",
    "import numpy as np\n",
    "cities = np.loadtxt('TSP100.txt',skiprows=1)\n",
    "def calc_length(cities, path):\n",
    "    length = 0\n",
    "    for i in range(len(path)):\n",
    "        square = dist_squared(cities[path[i-1]], cities[path[i]])\n",
    "        #print(square)\n",
    "        length += square\n",
    "    return length\n",
    "\n",
    "import math\n",
    "\n",
    "def dist_squared(c1, c2):\n",
    "    t1 = c2[0] - c1[0]\n",
    "    t2 = c2[1] - c1[1]\n",
    "    return math.sqrt(t1**2 + t2**2)"
   ]
  },
  {
   "cell_type": "code",
   "execution_count": 457,
   "metadata": {},
   "outputs": [],
   "source": [
    "def greedy_algorithm(cities):\n",
    "    best_order = []\n",
    "    best_length = float('inf')\n",
    "\n",
    "    for i_start, start in enumerate(cities):\n",
    "        order = [i_start]\n",
    "        length = 0\n",
    "        i_next, next, dist = get_closest(start, cities, order)\n",
    "        length += dist\n",
    "        order.append(i_next)\n",
    "\n",
    "        while len(order) < cities.shape[0]:\n",
    "            i_next, next, dist = get_closest(next, cities, order)\n",
    "            length += dist\n",
    "            order.append(i_next)\n",
    "        #print(order)\n",
    "        if length < best_length:\n",
    "            best_length = length\n",
    "            best_order = order\n",
    "    return best_order, best_length"
   ]
  },
  {
   "cell_type": "code",
   "execution_count": 458,
   "metadata": {},
   "outputs": [
    {
     "name": "stdout",
     "output_type": "stream",
     "text": [
      "0.8597748279571533\n"
     ]
    }
   ],
   "source": [
    "start = time.time()\n",
    "result1 = greedy_algorithm(cities)\n",
    "print(time.time() - start)"
   ]
  },
  {
   "cell_type": "code",
   "execution_count": 459,
   "metadata": {},
   "outputs": [
    {
     "data": {
      "text/plain": [
       "4176944.4222224886"
      ]
     },
     "execution_count": 459,
     "metadata": {},
     "output_type": "execute_result"
    }
   ],
   "source": [
    "result1[1]"
   ]
  },
  {
   "cell_type": "markdown",
   "metadata": {},
   "source": [
    "## Swap-3 random"
   ]
  },
  {
   "cell_type": "code",
   "execution_count": 460,
   "metadata": {},
   "outputs": [],
   "source": [
    "def swap3_random_algorithm(cities):\n",
    "    order =  list(range(cities.shape[0]))\n",
    "    shuffle(order)\n",
    "    length = calc_length(cities, order)\n",
    "    start = time.time()\n",
    "    changed = True\n",
    "    while changed:\n",
    "        changed = False\n",
    "        for a in range(cities.shape[0]):\n",
    "            for b in range(a+1, cities.shape[0] - 1):\n",
    "                c =  randint(b+1, cities.shape[0]-1)\n",
    "                a, b, c = choice(list(permutations((a,b,c))))\n",
    "                new_order = order[:a] + order[a:b][::-1] + order[b:c][::-1] + order[c:]\n",
    "                new_length = calc_length(cities, new_order)\n",
    "                if new_length < length:\n",
    "                    length = new_length\n",
    "                    order = new_order\n",
    "                    changed = True\n",
    "    return order, length"
   ]
  },
  {
   "cell_type": "code",
   "execution_count": 216,
   "metadata": {},
   "outputs": [],
   "source": [
    "time3 = list()\n",
    "result3 = list()\n",
    "for _ in range(6):\n",
    "    start = time.time()\n",
    "    result3.append(swap3_random_algorithm(cities))\n",
    "    time3.append(time.time() - start)"
   ]
  },
  {
   "cell_type": "code",
   "execution_count": 266,
   "metadata": {},
   "outputs": [
    {
     "name": "stdout",
     "output_type": "stream",
     "text": [
      "18.29692578315735\n",
      "13.820849418640137\n",
      "18.516886949539185\n",
      "24.232131242752075\n",
      "39.02716064453125\n",
      "23.27146029472351\n"
     ]
    }
   ],
   "source": [
    "for val in time3:\n",
    "    print(val)"
   ]
  },
  {
   "cell_type": "code",
   "execution_count": 262,
   "metadata": {},
   "outputs": [
    {
     "name": "stdout",
     "output_type": "stream",
     "text": [
      "37416110.4189\n",
      "40408332.7233\n",
      "36137222.3978\n",
      "46413332.6233\n",
      "35644999.8733\n",
      "25830555.3711\n"
     ]
    }
   ],
   "source": [
    "for val in result3:\n",
    "    print(val[1])"
   ]
  },
  {
   "cell_type": "code",
   "execution_count": 375,
   "metadata": {},
   "outputs": [],
   "source": [
    "MAX_EVALUATION = 10000"
   ]
  },
  {
   "cell_type": "markdown",
   "metadata": {},
   "source": [
    "## Swap-3"
   ]
  },
  {
   "cell_type": "code",
   "execution_count": 473,
   "metadata": {},
   "outputs": [],
   "source": [
    "def swap3_algorithm(cities):\n",
    "    order =  list(range(cities.shape[0]))\n",
    "    shuffle(order)\n",
    "    length = calc_length(cities, order)\n",
    "    start = time.time()\n",
    "    changed = True\n",
    "    iter_count = 0\n",
    "    while changed and iter_count < MAX_EVALUATION:\n",
    "        #changed = False\n",
    "        for a in range(cities.shape[0]):\n",
    "            for b in range(a+1, cities.shape[0] - 1):\n",
    "                c = randint(b+1, cities.shape[0]-1)\n",
    "                for a,b,c in permutations((a,b,c)):\n",
    "                    iter_count += 1\n",
    "                    new_order = order[:a] + order[a:b][::-1] + order[b:c][::-1] + order[c:]\n",
    "                    new_length = calc_length(cities, new_order)\n",
    "                    if new_length < length:\n",
    "                        length = new_length\n",
    "                        order = new_order\n",
    "                        #changed = True\n",
    "    return order, length, iter_count"
   ]
  },
  {
   "cell_type": "code",
   "execution_count": 475,
   "metadata": {},
   "outputs": [
    {
     "name": "stdout",
     "output_type": "stream",
     "text": [
      "31508.386792083107 29106.0 4.114355516433716\n"
     ]
    }
   ],
   "source": [
    "time5 = list()\n",
    "result5 = list()\n",
    "for _ in range(10):\n",
    "    start = time.time()\n",
    "    result5.append(list(swap3_algorithm(cities)[1:])+[time.time() - start])\n",
    "cost, iterations, time_used = 0, 0, 0\n",
    "for sample in result5:\n",
    "    cost += sample[0]\n",
    "    iterations += sample[1]\n",
    "    time_used += sample[2]\n",
    "print(cost/10, iterations/10, time_used/10)"
   ]
  },
  {
   "cell_type": "code",
   "execution_count": 352,
   "metadata": {},
   "outputs": [],
   "source": [
    "def swap2_adjacent_algorithm(cities):\n",
    "    # init\n",
    "    best_order = []\n",
    "    best_length = float('inf')\n",
    "    order =  list(range(cities.shape[0]))\n",
    "    shuffle(order)\n",
    "    best_order = order\n",
    "    best_length = calc_length(cities, order)\n",
    "    # print(best_length)\n",
    "    \n",
    "    iter_count = 0\n",
    "    changed = True\n",
    "    while iter_count < MAX_EVALUATION and changed:\n",
    "        changed = False\n",
    "        for idx in range(cities.shape[0]-1):\n",
    "            iter_count += 1\n",
    "            d1_1 = dist_squared(cities[best_order[idx]], cities[best_order[idx+1]])\n",
    "            d1_2 = dist_squared(cities[best_order[idx-1]], cities[best_order[idx+1]])\n",
    "            d2_1 = dist_squared(cities[best_order[idx-1]], cities[best_order[idx-2]])\n",
    "            d2_2 = dist_squared(cities[best_order[idx]], cities[best_order[idx-2]])\n",
    "            # print(dist_squared(cities[best_order[idx-1]], cities[best_order[idx]]))\n",
    "            if d1_1+d2_1 > d1_2 + d2_2:\n",
    "                new_order = list(best_order)\n",
    "                tmp = new_order[idx-1]\n",
    "                new_order[idx-1] = new_order[idx]\n",
    "                new_order[idx] = tmp\n",
    "                best_order = new_order\n",
    "                best_length = best_length + d1_2 + d2_2 - d1_1 - d2_1\n",
    "                # print(d1_2 + d2_2 - d1_1 - d2_1, idx)\n",
    "                #print(dist_squared(cities[best_order[idx-1]], cities[best_order[idx]]))\n",
    "                changed = True\n",
    "                break\n",
    "    return best_order, best_length, iter_count"
   ]
  },
  {
   "cell_type": "code",
   "execution_count": 364,
   "metadata": {},
   "outputs": [],
   "source": [
    "tour,cost,iteration = swap2_adjacent_algorithm(cities)"
   ]
  },
  {
   "cell_type": "code",
   "execution_count": 427,
   "metadata": {},
   "outputs": [
    {
     "name": "stdout",
     "output_type": "stream",
     "text": [
      "79139.12594304237 3210.2 0.01595611572265625\n"
     ]
    }
   ],
   "source": [
    "time1 = list()\n",
    "result1 = list()\n",
    "for _ in range(10):\n",
    "    start = time.time()\n",
    "    result1.append(list(swap2_adjacent_algorithm(cities)[1:])+[time.time() - start])\n",
    "cost, iterations, time_used = 0, 0, 0\n",
    "for sample in result1:\n",
    "    cost += sample[0]\n",
    "    iterations += sample[1]\n",
    "    time_used += sample[2]\n",
    "print(cost/10, iterations/10, time_used/10)"
   ]
  },
  {
   "cell_type": "code",
   "execution_count": 420,
   "metadata": {},
   "outputs": [],
   "source": [
    "def swap2_arbitrary_algorithm(cities):\n",
    "    # init\n",
    "    N = cities.shape[0]\n",
    "    best_order = []\n",
    "    best_length = float('inf')\n",
    "    order =  list(range(N))\n",
    "    shuffle(order)\n",
    "    best_order = order\n",
    "    best_length = calc_length(cities, order)\n",
    "    # print(best_length)\n",
    "    iter_count = 0\n",
    "    changed = True\n",
    "    while iter_count < MAX_EVALUATION and changed:\n",
    "        changed = False\n",
    "        for idx in range(cities.shape[0]-1):\n",
    "            iter_count += 1\n",
    "            d1_1 = dist_squared(cities[best_order[idx]], cities[best_order[idx+1]])\n",
    "            d1_2 = dist_squared(cities[best_order[idx-1]], cities[best_order[idx+1]])\n",
    "            d2_1 = dist_squared(cities[best_order[idx-1]], cities[best_order[idx-2]])\n",
    "            d2_2 = dist_squared(cities[best_order[idx]], cities[best_order[idx-2]])\n",
    "            # print(dist_squared(cities[best_order[idx-1]], cities[best_order[idx]]))\n",
    "            if d1_1+d2_1 > d1_2 + d2_2:\n",
    "                new_order = list(best_order)\n",
    "                tmp = new_order[idx-1]\n",
    "                new_order[idx-1] = new_order[idx]\n",
    "                new_order[idx] = tmp\n",
    "                best_order = new_order\n",
    "                best_length = best_length + d1_2 + d2_2 - d1_1 - d2_1\n",
    "                # print(d1_2 + d2_2 - d1_1 - d2_1, idx)\n",
    "                #print(dist_squared(cities[best_order[idx-1]], cities[best_order[idx]]))\n",
    "                changed = True\n",
    "                break\n",
    "        for idx1 in range(N):\n",
    "            for idx2 in range(idx1 + 2, N):\n",
    "                iter_count += 1\n",
    "                # swap idx1 and idx2\n",
    "                #print(idx1, idx2, (idx1+1) % N, (idx2+1) % N)\n",
    "                d1_1 = dist_squared(cities[best_order[idx1]], cities[best_order[idx1-1]]) + \\\n",
    "                    dist_squared(cities[best_order[idx1]], cities[best_order[(idx1+1) % N]])\n",
    "                d1_2 = dist_squared(cities[best_order[idx2]], cities[best_order[idx1-1]]) + \\\n",
    "                    dist_squared(cities[best_order[idx2]], cities[best_order[(idx1+1) % N]])\n",
    "                d2_1 = dist_squared(cities[best_order[idx2]], cities[best_order[idx2-1]]) + \\\n",
    "                    dist_squared(cities[best_order[idx2]], cities[best_order[(idx2+1) % N]])\n",
    "                d2_2 = dist_squared(cities[best_order[idx1]], cities[best_order[idx2-1]]) + \\\n",
    "                    dist_squared(cities[best_order[idx1]], cities[best_order[(idx2+1) % N]])\n",
    "                if d1_1+d2_1 > d1_2 + d2_2:\n",
    "                    newsolutoin = list(best_order)\n",
    "                    tmp = newsolutoin[idx1]\n",
    "                    newsolutoin[idx1] = newsolutoin[idx2]\n",
    "                    newsolutoin[idx2] = tmp\n",
    "                    best_order = newsolutoin\n",
    "                    best_length = best_length + d1_2 + d2_2 - d1_1 - d2_1\n",
    "                    #print(d1_2,  d2_2,d1_1 , d2_1, iter_count)\n",
    "                    changed = True\n",
    "                    break\n",
    "    return best_order, best_length, iter_count"
   ]
  },
  {
   "cell_type": "code",
   "execution_count": 421,
   "metadata": {},
   "outputs": [],
   "source": [
    "tour,cost,iteration = swap2_arbitrary_algorithm(cities)"
   ]
  },
  {
   "cell_type": "code",
   "execution_count": 416,
   "metadata": {},
   "outputs": [
    {
     "name": "stdout",
     "output_type": "stream",
     "text": [
      "30779.753017996038 10871.0 0.10801308155059815\n"
     ]
    }
   ],
   "source": [
    "time2 = list()\n",
    "result2 = list()\n",
    "for _ in range(10):\n",
    "    start = time.time()\n",
    "    result2.append(list(swap2_arbitrary_algorithm(cities)[1:])+[time.time() - start])\n",
    "cost, iterations, time_used = 0, 0, 0\n",
    "for sample in result2:\n",
    "    cost += sample[0]\n",
    "    iterations += sample[1]\n",
    "    time_used += sample[2]\n",
    "print(cost/10, iterations/10, time_used/10)"
   ]
  },
  {
   "cell_type": "code",
   "execution_count": 439,
   "metadata": {},
   "outputs": [],
   "source": [
    "def insertion_algorithm(cities):\n",
    "    # init\n",
    "    N = cities.shape[0]\n",
    "    best_order = []\n",
    "    best_length = float('inf')\n",
    "    order =  list(range(N))\n",
    "    shuffle(order)\n",
    "    best_order = order\n",
    "    best_length = calc_length(cities, order)\n",
    "    # print(best_length)\n",
    "    iter_count = 0\n",
    "    changed = True\n",
    "    while iter_count < MAX_EVALUATION and changed:\n",
    "        changed = False\n",
    "        for idx1 in range(N):\n",
    "            for idx2 in range(N):\n",
    "                # insert idx1 before idx2\n",
    "                if idx2 < idx1 or idx2 > idx1:\n",
    "                    iter_count += 1\n",
    "                    d1_1 = dist_squared(cities[best_order[idx1]], cities[best_order[(idx1+1)%N]]) +\\\n",
    "                        dist_squared(cities[best_order[idx1]], cities[best_order[idx1-1]])\n",
    "                    d2_1 = dist_squared(cities[best_order[idx2]], cities[best_order[idx2-1]])\n",
    "                    d1_2 = dist_squared(cities[best_order[idx1]], cities[best_order[idx2]]) +\\\n",
    "                        dist_squared(cities[best_order[idx1]], cities[best_order[idx2-1]])\n",
    "                    d2_2 = dist_squared(cities[best_order[idx1-1]], cities[best_order[(idx1+1)%N]])\n",
    "                    if d1_1+d2_1 > d1_2 + d2_2:\n",
    "                        new_order = list(best_order)\n",
    "                        del new_order[idx1]\n",
    "                        new_order.insert(idx2, best_order[idx1])\n",
    "                        best_order = new_order\n",
    "                        best_length = best_length + d1_2 + d2_2 - d1_1 - d2_1\n",
    "                        # print(d1_2 + d2_2 - d1_1 - d2_1, idx)\n",
    "                        #print(dist_squared(cities[best_order[idx-1]], cities[best_order[idx]]))\n",
    "                        changed = True\n",
    "                        break\n",
    "    return best_order, best_length, iter_count"
   ]
  },
  {
   "cell_type": "code",
   "execution_count": 440,
   "metadata": {},
   "outputs": [],
   "source": [
    "tour,cost,iteration = insertion_algorithm(cities)"
   ]
  },
  {
   "cell_type": "code",
   "execution_count": 441,
   "metadata": {},
   "outputs": [
    {
     "data": {
      "text/plain": [
       "34260.28090926645"
      ]
     },
     "execution_count": 441,
     "metadata": {},
     "output_type": "execute_result"
    }
   ],
   "source": [
    "calc_length(cities, tour)"
   ]
  },
  {
   "cell_type": "code",
   "execution_count": 442,
   "metadata": {},
   "outputs": [
    {
     "name": "stdout",
     "output_type": "stream",
     "text": [
      "30581.257082755976 11322.2 0.1110116720199585\n"
     ]
    }
   ],
   "source": [
    "time3 = list()\n",
    "result3 = list()\n",
    "for _ in range(10):\n",
    "    start = time.time()\n",
    "    result3.append(list(swap2_arbitrary_algorithm(cities)[1:])+[time.time() - start])\n",
    "cost, iterations, time_used = 0, 0, 0\n",
    "for sample in result3:\n",
    "    cost += sample[0]\n",
    "    iterations += sample[1]\n",
    "    time_used += sample[2]\n",
    "print(cost/10, iterations/10, time_used/10)"
   ]
  },
  {
   "cell_type": "code",
   "execution_count": 445,
   "metadata": {},
   "outputs": [],
   "source": [
    "def two_opt_algorithm(cities):\n",
    "    # init\n",
    "    N = cities.shape[0]\n",
    "    best_order = []\n",
    "    best_length = float('inf')\n",
    "    order =  list(range(N))\n",
    "    shuffle(order)\n",
    "    best_order = order\n",
    "    best_length = calc_length(cities, order)\n",
    "    # print(best_length)\n",
    "    iter_count = 0\n",
    "    changed = True\n",
    "    while iter_count < MAX_EVALUATION and changed:\n",
    "        changed = False\n",
    "        for idx1 in range(1, N-1):\n",
    "            for idx2 in range(idx1+1, N):\n",
    "                iter_count += 1\n",
    "                d1_1 = dist_squared(cities[best_order[idx1-1]], cities[best_order[idx1]])\n",
    "                d2_1 = dist_squared(cities[best_order[idx2]], cities[best_order[(idx2+1)%N]])\n",
    "                d1_2 = dist_squared(cities[best_order[idx1-1]], cities[best_order[idx2]])\n",
    "                d2_2 = dist_squared(cities[best_order[idx1]], cities[best_order[(idx2+1)%N]])\n",
    "                if d1_1+d2_1 > d1_2 + d2_2:\n",
    "                    newsolutoin = list(best_order)\n",
    "                    newsolutoin[idx1:idx2+1] = newsolutoin[idx2:idx1-1:-1]\n",
    "                    best_order = newsolutoin\n",
    "                    best_length = best_length + d1_2 + d2_2 - d1_1 - d2_1\n",
    "                    changed = True\n",
    "                    break\n",
    "    return best_order, best_length, iter_count"
   ]
  },
  {
   "cell_type": "code",
   "execution_count": 446,
   "metadata": {},
   "outputs": [],
   "source": [
    "tour,cost,iteration = two_opt_algorithm(cities)"
   ]
  },
  {
   "cell_type": "code",
   "execution_count": 449,
   "metadata": {},
   "outputs": [
    {
     "name": "stdout",
     "output_type": "stream",
     "text": [
      "31382.33400950809 10732.0 0.107138991355896\n"
     ]
    }
   ],
   "source": [
    "time4 = list()\n",
    "result4 = list()\n",
    "for _ in range(10):\n",
    "    start = time.time()\n",
    "    result4.append(list(swap2_arbitrary_algorithm(cities)[1:])+[time.time() - start])\n",
    "cost, iterations, time_used = 0, 0, 0\n",
    "for sample in result4:\n",
    "    cost += sample[0]\n",
    "    iterations += sample[1]\n",
    "    time_used += sample[2]\n",
    "print(cost/10, iterations/10, time_used/10)"
   ]
  },
  {
   "cell_type": "code",
   "execution_count": 469,
   "metadata": {},
   "outputs": [],
   "source": [
    "def three_opt_algorithm(cities):\n",
    "    # init\n",
    "    N = cities.shape[0]\n",
    "    best_order = []\n",
    "    best_length = float('inf')\n",
    "    order =  list(range(N))\n",
    "    shuffle(order)\n",
    "    best_order = order\n",
    "    best_length = calc_length(cities, order)\n",
    "    # print(best_length)\n",
    "    iter_count = 0\n",
    "    changed = True\n",
    "    while iter_count < MAX_EVALUATION and changed:\n",
    "        changed = False\n",
    "        for a in range(N):\n",
    "            for b in range(a+1, N-1):\n",
    "                c = randint(b+1, N-1)\n",
    "                d,e,f = a-1, b-1, c-1\n",
    "                pass\n",
    "            #ref https://stackoverflow.com/questions/21205261/3-opt-local-search-for-tsp\n",
    "            # need to be finished\n",
    "    return best_order, best_length, iter_count"
   ]
  },
  {
   "cell_type": "code",
   "execution_count": null,
   "metadata": {},
   "outputs": [],
   "source": [
    "time5 = list()\n",
    "result5 = list()\n",
    "for _ in range(10):\n",
    "    start = time.time()\n",
    "    result5.append(list(three_opt_algorithm(cities)[1:])+[time.time() - start])\n",
    "cost, iterations, time_used = 0, 0, 0\n",
    "for sample in result5:\n",
    "    cost += sample[0]\n",
    "    iterations += sample[1]\n",
    "    time_used += sample[2]\n",
    "print(cost/10, iterations/10, time_used/10)"
   ]
  },
  {
   "cell_type": "code",
   "execution_count": 468,
   "metadata": {},
   "outputs": [
    {
     "name": "stdout",
     "output_type": "stream",
     "text": [
      "(2, 5, 3)\n",
      "(2, 3, 5)\n",
      "(5, 2, 3)\n",
      "(5, 3, 2)\n",
      "(3, 2, 5)\n",
      "(3, 5, 2)\n"
     ]
    }
   ],
   "source": [
    "for x in permutations((2,5,3)):\n",
    "    print(x)"
   ]
  }
 ],
 "metadata": {
  "kernelspec": {
   "display_name": "Python 3",
   "language": "python",
   "name": "python3"
  },
  "language_info": {
   "codemirror_mode": {
    "name": "ipython",
    "version": 3
   },
   "file_extension": ".py",
   "mimetype": "text/x-python",
   "name": "python",
   "nbconvert_exporter": "python",
   "pygments_lexer": "ipython3",
   "version": "3.5.2"
  }
 },
 "nbformat": 4,
 "nbformat_minor": 2
}
