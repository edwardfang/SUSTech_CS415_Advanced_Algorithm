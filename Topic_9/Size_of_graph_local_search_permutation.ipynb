{
 "cells": [
  {
   "cell_type": "code",
   "execution_count": 3,
   "metadata": {},
   "outputs": [],
   "source": [
    "import matplotlib\n",
    "%matplotlib inline\n",
    "from collections import deque"
   ]
  },
  {
   "cell_type": "markdown",
   "metadata": {},
   "source": [
    "## Check Function"
   ]
  },
  {
   "cell_type": "code",
   "execution_count": 88,
   "metadata": {},
   "outputs": [],
   "source": [
    "def test_wheather_the_same(solution_a, solution_b):\n",
    "    '''\n",
    "    params:solution_a, solution_b: lists\n",
    "    check if the two permutation solutions for tour are actually the same\n",
    "    '''\n",
    "    dequeue_a = deque(solution_a)\n",
    "    dequeue_b = deque(solution_b)\n",
    "    while(dequeue_a[0]!=dequeue_b[0]):\n",
    "        # circular shift from left to right\n",
    "        dequeue_a.rotate()\n",
    "    # check from left to right\n",
    "    if dequeue_a == dequeue_b:\n",
    "        return True\n",
    "    else:\n",
    "        dequeue_a.reverse()\n",
    "        dequeue_a.rotate()\n",
    "        if dequeue_a == dequeue_b:\n",
    "            return True\n",
    "        else:\n",
    "            return False\n",
    "\n",
    "def count_neighbors(neighbors):\n",
    "    '''\n",
    "    params: neighbors: a list of solutions probably with duplications\n",
    "    output: actual number of neighbors\n",
    "    '''\n",
    "    total_count = len(neighbors) - 1\n",
    "    for idx, solution_a in enumerate(neighbors):\n",
    "        for solution_b in neighbors[idx+1:]:\n",
    "            \n",
    "            if test_wheather_the_same(solution_a, solution_b):\n",
    "                print(solution_a, solution_b)\n",
    "                print(\"same\")\n",
    "                total_count -= 1\n",
    "                break\n",
    "    return total_count"
   ]
  },
  {
   "cell_type": "markdown",
   "metadata": {},
   "source": [
    "## Adjacent Swap"
   ]
  },
  {
   "cell_type": "code",
   "execution_count": 89,
   "metadata": {},
   "outputs": [],
   "source": [
    "def ad_swap(var_size):\n",
    "    init_solution = list(range(var_size))\n",
    "    neighbors = list()\n",
    "    neighbors.append(init_solution)\n",
    "    for idx in range(var_size):\n",
    "        newsolutoin = list(init_solution)\n",
    "        tmp = newsolutoin[idx-1]\n",
    "        newsolutoin[idx-1] = newsolutoin[idx]\n",
    "        newsolutoin[idx] = tmp\n",
    "        neighbors.append(newsolutoin)\n",
    "    return neighbors"
   ]
  },
  {
   "cell_type": "code",
   "execution_count": 78,
   "metadata": {},
   "outputs": [
    {
     "data": {
      "text/plain": [
       "2"
      ]
     },
     "execution_count": 78,
     "metadata": {},
     "output_type": "execute_result"
    }
   ],
   "source": [
    "count_neighbors(ad_swap(4))"
   ]
  },
  {
   "cell_type": "markdown",
   "metadata": {},
   "source": [
    "## Arbitary Swap"
   ]
  },
  {
   "cell_type": "code",
   "execution_count": 86,
   "metadata": {},
   "outputs": [],
   "source": [
    "def arbitary_swap(var_size):\n",
    "    init_solution = list(range(var_size))\n",
    "    neighbors = list()\n",
    "    neighbors.append(init_solution)\n",
    "    for idx1 in range(var_size):\n",
    "        for idx2 in range(idx1 + 1, var_size):\n",
    "            newsolutoin = list(init_solution)\n",
    "            tmp = newsolutoin[idx1]\n",
    "            newsolutoin[idx1] = newsolutoin[idx2]\n",
    "            newsolutoin[idx2] = tmp\n",
    "            neighbors.append(newsolutoin)\n",
    "    return neighbors"
   ]
  },
  {
   "cell_type": "markdown",
   "metadata": {},
   "source": [
    "n >= 6 size = nC2"
   ]
  },
  {
   "cell_type": "code",
   "execution_count": 116,
   "metadata": {},
   "outputs": [
    {
     "data": {
      "text/plain": [
       "780"
      ]
     },
     "execution_count": 116,
     "metadata": {},
     "output_type": "execute_result"
    }
   ],
   "source": [
    "count_neighbors(arbitary_swap(40))"
   ]
  },
  {
   "cell_type": "markdown",
   "metadata": {},
   "source": [
    "## Insertion"
   ]
  },
  {
   "cell_type": "code",
   "execution_count": 130,
   "metadata": {},
   "outputs": [],
   "source": [
    "def insertion(var_size):\n",
    "    init_solution = list(range(var_size))\n",
    "    neighbors = list()\n",
    "    neighbors.append(init_solution)\n",
    "    for idx1 in range(var_size):\n",
    "        for idx2 in range(var_size):\n",
    "            newsolutoin = list(init_solution)\n",
    "            del newsolutoin[idx1]\n",
    "            if idx2 < idx1:\n",
    "                newsolutoin.insert(idx2, idx1)\n",
    "            elif idx2 > idx1:\n",
    "                newsolutoin.insert(idx2, idx1)\n",
    "            else:\n",
    "                continue\n",
    "            neighbors.append(newsolutoin)\n",
    "    print(neighbors)\n",
    "    return neighbors"
   ]
  },
  {
   "cell_type": "code",
   "execution_count": 141,
   "metadata": {},
   "outputs": [
    {
     "name": "stdout",
     "output_type": "stream",
     "text": [
      "[[0, 1, 2, 3], [1, 0, 2, 3], [1, 2, 0, 3], [1, 2, 3, 0], [1, 0, 2, 3], [0, 2, 1, 3], [0, 2, 3, 1], [2, 0, 1, 3], [0, 2, 1, 3], [0, 1, 3, 2], [3, 0, 1, 2], [0, 3, 1, 2], [0, 1, 3, 2]]\n",
      "[0, 1, 2, 3] [1, 2, 3, 0]\n",
      "same\n",
      "[1, 0, 2, 3] [1, 0, 2, 3]\n",
      "same\n",
      "[1, 2, 0, 3] [0, 2, 1, 3]\n",
      "same\n",
      "[1, 2, 3, 0] [3, 0, 1, 2]\n",
      "same\n",
      "[1, 0, 2, 3] [0, 2, 3, 1]\n",
      "same\n",
      "[0, 2, 1, 3] [0, 2, 1, 3]\n",
      "same\n",
      "[0, 2, 3, 1] [2, 0, 1, 3]\n",
      "same\n",
      "[2, 0, 1, 3] [0, 1, 3, 2]\n",
      "same\n",
      "[0, 2, 1, 3] [0, 3, 1, 2]\n",
      "same\n",
      "[0, 1, 3, 2] [0, 1, 3, 2]\n",
      "same\n"
     ]
    },
    {
     "data": {
      "text/plain": [
       "2"
      ]
     },
     "execution_count": 141,
     "metadata": {},
     "output_type": "execute_result"
    }
   ],
   "source": [
    "count_neighbors(insertion(4))"
   ]
  },
  {
   "cell_type": "markdown",
   "metadata": {},
   "source": [
    "## Two-edge Inversion"
   ]
  },
  {
   "cell_type": "code",
   "execution_count": 117,
   "metadata": {},
   "outputs": [],
   "source": [
    "def two_opt(var_size):\n",
    "    init_solution = list(range(var_size))\n",
    "    neighbors = list()\n",
    "    neighbors.append(init_solution)\n",
    "    for idx1 in range(var_size):\n",
    "        for idx2 in range(var_size):\n",
    "            newsolutoin = list(init_solution)\n",
    "            del newsolutoin[idx1]\n",
    "            if idx2 < idx1:\n",
    "                newsolutoin.insert(idx2, idx1)\n",
    "            elif idx2 > idx1:\n",
    "                newsolutoin.insert(idx2, idx1)\n",
    "            else:\n",
    "                continue\n",
    "            neighbors.append(newsolutoin)\n",
    "    print(neighbors)\n",
    "    return neighbors"
   ]
  },
  {
   "cell_type": "code",
   "execution_count": 118,
   "metadata": {},
   "outputs": [],
   "source": [
    "del x[1]"
   ]
  },
  {
   "cell_type": "code",
   "execution_count": 119,
   "metadata": {},
   "outputs": [
    {
     "data": {
      "text/plain": [
       "[1, 3]"
      ]
     },
     "execution_count": 119,
     "metadata": {},
     "output_type": "execute_result"
    }
   ],
   "source": [
    "x"
   ]
  },
  {
   "cell_type": "code",
   "execution_count": null,
   "metadata": {},
   "outputs": [],
   "source": []
  }
 ],
 "metadata": {
  "kernelspec": {
   "display_name": "Python 3",
   "language": "python",
   "name": "python3"
  },
  "language_info": {
   "codemirror_mode": {
    "name": "ipython",
    "version": 3
   },
   "file_extension": ".py",
   "mimetype": "text/x-python",
   "name": "python",
   "nbconvert_exporter": "python",
   "pygments_lexer": "ipython3",
   "version": "3.5.2"
  }
 },
 "nbformat": 4,
 "nbformat_minor": 2
}
